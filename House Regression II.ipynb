{
 "cells": [
  {
   "cell_type": "markdown",
   "metadata": {},
   "source": [
    "# House Regression Challenge (Kaggle)"
   ]
  },
  {
   "cell_type": "markdown",
   "metadata": {},
   "source": [
    "Import modules"
   ]
  },
  {
   "cell_type": "code",
   "execution_count": 1,
   "metadata": {},
   "outputs": [],
   "source": [
    "import pandas as pd\n",
    "import numpy as np\n",
    "import matplotlib.pyplot as plt\n",
    "from statistics import mode"
   ]
  },
  {
   "cell_type": "markdown",
   "metadata": {},
   "source": [
    "Load and inspect data"
   ]
  },
  {
   "cell_type": "code",
   "execution_count": 2,
   "metadata": {},
   "outputs": [
    {
     "data": {
      "text/html": [
       "<div>\n",
       "<style scoped>\n",
       "    .dataframe tbody tr th:only-of-type {\n",
       "        vertical-align: middle;\n",
       "    }\n",
       "\n",
       "    .dataframe tbody tr th {\n",
       "        vertical-align: top;\n",
       "    }\n",
       "\n",
       "    .dataframe thead th {\n",
       "        text-align: right;\n",
       "    }\n",
       "</style>\n",
       "<table border=\"1\" class=\"dataframe\">\n",
       "  <thead>\n",
       "    <tr style=\"text-align: right;\">\n",
       "      <th></th>\n",
       "      <th></th>\n",
       "      <th>Id</th>\n",
       "      <th>MSSubClass</th>\n",
       "      <th>MSZoning</th>\n",
       "      <th>LotFrontage</th>\n",
       "      <th>LotArea</th>\n",
       "      <th>Street</th>\n",
       "      <th>Alley</th>\n",
       "      <th>LotShape</th>\n",
       "      <th>LandContour</th>\n",
       "      <th>Utilities</th>\n",
       "      <th>...</th>\n",
       "      <th>PoolArea</th>\n",
       "      <th>PoolQC</th>\n",
       "      <th>Fence</th>\n",
       "      <th>MiscFeature</th>\n",
       "      <th>MiscVal</th>\n",
       "      <th>MoSold</th>\n",
       "      <th>YrSold</th>\n",
       "      <th>SaleType</th>\n",
       "      <th>SaleCondition</th>\n",
       "      <th>SalePrice</th>\n",
       "    </tr>\n",
       "  </thead>\n",
       "  <tbody>\n",
       "    <tr>\n",
       "      <th rowspan=\"5\" valign=\"top\">Train</th>\n",
       "      <th>0</th>\n",
       "      <td>1</td>\n",
       "      <td>60</td>\n",
       "      <td>RL</td>\n",
       "      <td>65.0</td>\n",
       "      <td>8450</td>\n",
       "      <td>Pave</td>\n",
       "      <td>NaN</td>\n",
       "      <td>Reg</td>\n",
       "      <td>Lvl</td>\n",
       "      <td>AllPub</td>\n",
       "      <td>...</td>\n",
       "      <td>0</td>\n",
       "      <td>NaN</td>\n",
       "      <td>NaN</td>\n",
       "      <td>NaN</td>\n",
       "      <td>0</td>\n",
       "      <td>2</td>\n",
       "      <td>2008</td>\n",
       "      <td>WD</td>\n",
       "      <td>Normal</td>\n",
       "      <td>208500.0</td>\n",
       "    </tr>\n",
       "    <tr>\n",
       "      <th>1</th>\n",
       "      <td>2</td>\n",
       "      <td>20</td>\n",
       "      <td>RL</td>\n",
       "      <td>80.0</td>\n",
       "      <td>9600</td>\n",
       "      <td>Pave</td>\n",
       "      <td>NaN</td>\n",
       "      <td>Reg</td>\n",
       "      <td>Lvl</td>\n",
       "      <td>AllPub</td>\n",
       "      <td>...</td>\n",
       "      <td>0</td>\n",
       "      <td>NaN</td>\n",
       "      <td>NaN</td>\n",
       "      <td>NaN</td>\n",
       "      <td>0</td>\n",
       "      <td>5</td>\n",
       "      <td>2007</td>\n",
       "      <td>WD</td>\n",
       "      <td>Normal</td>\n",
       "      <td>181500.0</td>\n",
       "    </tr>\n",
       "    <tr>\n",
       "      <th>2</th>\n",
       "      <td>3</td>\n",
       "      <td>60</td>\n",
       "      <td>RL</td>\n",
       "      <td>68.0</td>\n",
       "      <td>11250</td>\n",
       "      <td>Pave</td>\n",
       "      <td>NaN</td>\n",
       "      <td>IR1</td>\n",
       "      <td>Lvl</td>\n",
       "      <td>AllPub</td>\n",
       "      <td>...</td>\n",
       "      <td>0</td>\n",
       "      <td>NaN</td>\n",
       "      <td>NaN</td>\n",
       "      <td>NaN</td>\n",
       "      <td>0</td>\n",
       "      <td>9</td>\n",
       "      <td>2008</td>\n",
       "      <td>WD</td>\n",
       "      <td>Normal</td>\n",
       "      <td>223500.0</td>\n",
       "    </tr>\n",
       "    <tr>\n",
       "      <th>3</th>\n",
       "      <td>4</td>\n",
       "      <td>70</td>\n",
       "      <td>RL</td>\n",
       "      <td>60.0</td>\n",
       "      <td>9550</td>\n",
       "      <td>Pave</td>\n",
       "      <td>NaN</td>\n",
       "      <td>IR1</td>\n",
       "      <td>Lvl</td>\n",
       "      <td>AllPub</td>\n",
       "      <td>...</td>\n",
       "      <td>0</td>\n",
       "      <td>NaN</td>\n",
       "      <td>NaN</td>\n",
       "      <td>NaN</td>\n",
       "      <td>0</td>\n",
       "      <td>2</td>\n",
       "      <td>2006</td>\n",
       "      <td>WD</td>\n",
       "      <td>Abnorml</td>\n",
       "      <td>140000.0</td>\n",
       "    </tr>\n",
       "    <tr>\n",
       "      <th>4</th>\n",
       "      <td>5</td>\n",
       "      <td>60</td>\n",
       "      <td>RL</td>\n",
       "      <td>84.0</td>\n",
       "      <td>14260</td>\n",
       "      <td>Pave</td>\n",
       "      <td>NaN</td>\n",
       "      <td>IR1</td>\n",
       "      <td>Lvl</td>\n",
       "      <td>AllPub</td>\n",
       "      <td>...</td>\n",
       "      <td>0</td>\n",
       "      <td>NaN</td>\n",
       "      <td>NaN</td>\n",
       "      <td>NaN</td>\n",
       "      <td>0</td>\n",
       "      <td>12</td>\n",
       "      <td>2008</td>\n",
       "      <td>WD</td>\n",
       "      <td>Normal</td>\n",
       "      <td>250000.0</td>\n",
       "    </tr>\n",
       "  </tbody>\n",
       "</table>\n",
       "<p>5 rows × 81 columns</p>\n",
       "</div>"
      ],
      "text/plain": [
       "         Id  MSSubClass MSZoning  LotFrontage  LotArea Street Alley LotShape  \\\n",
       "Train 0   1          60       RL         65.0     8450   Pave   NaN      Reg   \n",
       "      1   2          20       RL         80.0     9600   Pave   NaN      Reg   \n",
       "      2   3          60       RL         68.0    11250   Pave   NaN      IR1   \n",
       "      3   4          70       RL         60.0     9550   Pave   NaN      IR1   \n",
       "      4   5          60       RL         84.0    14260   Pave   NaN      IR1   \n",
       "\n",
       "        LandContour Utilities  ... PoolArea PoolQC Fence MiscFeature MiscVal  \\\n",
       "Train 0         Lvl    AllPub  ...        0    NaN   NaN         NaN       0   \n",
       "      1         Lvl    AllPub  ...        0    NaN   NaN         NaN       0   \n",
       "      2         Lvl    AllPub  ...        0    NaN   NaN         NaN       0   \n",
       "      3         Lvl    AllPub  ...        0    NaN   NaN         NaN       0   \n",
       "      4         Lvl    AllPub  ...        0    NaN   NaN         NaN       0   \n",
       "\n",
       "        MoSold YrSold  SaleType  SaleCondition  SalePrice  \n",
       "Train 0      2   2008        WD         Normal   208500.0  \n",
       "      1      5   2007        WD         Normal   181500.0  \n",
       "      2      9   2008        WD         Normal   223500.0  \n",
       "      3      2   2006        WD        Abnorml   140000.0  \n",
       "      4     12   2008        WD         Normal   250000.0  \n",
       "\n",
       "[5 rows x 81 columns]"
      ]
     },
     "execution_count": 2,
     "metadata": {},
     "output_type": "execute_result"
    }
   ],
   "source": [
    "# import Train Data\n",
    "train = pd.read_csv('https://raw.githubusercontent.com/MattBrew/KaggleHouseRegression/main/train.csv')\n",
    "# import Test Data\n",
    "test = pd.read_csv('https://raw.githubusercontent.com/MattBrew/KaggleHouseRegression/main/test.csv')\n",
    "\n",
    "# assemble into df, while preserving the index, look at head and tail\n",
    "df = pd.concat([train,test], keys = ['Train','Test'])\n",
    "df.head()"
   ]
  },
  {
   "cell_type": "code",
   "execution_count": 3,
   "metadata": {},
   "outputs": [
    {
     "data": {
      "text/html": [
       "<div>\n",
       "<style scoped>\n",
       "    .dataframe tbody tr th:only-of-type {\n",
       "        vertical-align: middle;\n",
       "    }\n",
       "\n",
       "    .dataframe tbody tr th {\n",
       "        vertical-align: top;\n",
       "    }\n",
       "\n",
       "    .dataframe thead th {\n",
       "        text-align: right;\n",
       "    }\n",
       "</style>\n",
       "<table border=\"1\" class=\"dataframe\">\n",
       "  <thead>\n",
       "    <tr style=\"text-align: right;\">\n",
       "      <th></th>\n",
       "      <th></th>\n",
       "      <th>Id</th>\n",
       "      <th>MSSubClass</th>\n",
       "      <th>MSZoning</th>\n",
       "      <th>LotFrontage</th>\n",
       "      <th>LotArea</th>\n",
       "      <th>Street</th>\n",
       "      <th>Alley</th>\n",
       "      <th>LotShape</th>\n",
       "      <th>LandContour</th>\n",
       "      <th>Utilities</th>\n",
       "      <th>...</th>\n",
       "      <th>PoolArea</th>\n",
       "      <th>PoolQC</th>\n",
       "      <th>Fence</th>\n",
       "      <th>MiscFeature</th>\n",
       "      <th>MiscVal</th>\n",
       "      <th>MoSold</th>\n",
       "      <th>YrSold</th>\n",
       "      <th>SaleType</th>\n",
       "      <th>SaleCondition</th>\n",
       "      <th>SalePrice</th>\n",
       "    </tr>\n",
       "  </thead>\n",
       "  <tbody>\n",
       "    <tr>\n",
       "      <th rowspan=\"5\" valign=\"top\">Test</th>\n",
       "      <th>1454</th>\n",
       "      <td>2915</td>\n",
       "      <td>160</td>\n",
       "      <td>RM</td>\n",
       "      <td>21.0</td>\n",
       "      <td>1936</td>\n",
       "      <td>Pave</td>\n",
       "      <td>NaN</td>\n",
       "      <td>Reg</td>\n",
       "      <td>Lvl</td>\n",
       "      <td>AllPub</td>\n",
       "      <td>...</td>\n",
       "      <td>0</td>\n",
       "      <td>NaN</td>\n",
       "      <td>NaN</td>\n",
       "      <td>NaN</td>\n",
       "      <td>0</td>\n",
       "      <td>6</td>\n",
       "      <td>2006</td>\n",
       "      <td>WD</td>\n",
       "      <td>Normal</td>\n",
       "      <td>NaN</td>\n",
       "    </tr>\n",
       "    <tr>\n",
       "      <th>1455</th>\n",
       "      <td>2916</td>\n",
       "      <td>160</td>\n",
       "      <td>RM</td>\n",
       "      <td>21.0</td>\n",
       "      <td>1894</td>\n",
       "      <td>Pave</td>\n",
       "      <td>NaN</td>\n",
       "      <td>Reg</td>\n",
       "      <td>Lvl</td>\n",
       "      <td>AllPub</td>\n",
       "      <td>...</td>\n",
       "      <td>0</td>\n",
       "      <td>NaN</td>\n",
       "      <td>NaN</td>\n",
       "      <td>NaN</td>\n",
       "      <td>0</td>\n",
       "      <td>4</td>\n",
       "      <td>2006</td>\n",
       "      <td>WD</td>\n",
       "      <td>Abnorml</td>\n",
       "      <td>NaN</td>\n",
       "    </tr>\n",
       "    <tr>\n",
       "      <th>1456</th>\n",
       "      <td>2917</td>\n",
       "      <td>20</td>\n",
       "      <td>RL</td>\n",
       "      <td>160.0</td>\n",
       "      <td>20000</td>\n",
       "      <td>Pave</td>\n",
       "      <td>NaN</td>\n",
       "      <td>Reg</td>\n",
       "      <td>Lvl</td>\n",
       "      <td>AllPub</td>\n",
       "      <td>...</td>\n",
       "      <td>0</td>\n",
       "      <td>NaN</td>\n",
       "      <td>NaN</td>\n",
       "      <td>NaN</td>\n",
       "      <td>0</td>\n",
       "      <td>9</td>\n",
       "      <td>2006</td>\n",
       "      <td>WD</td>\n",
       "      <td>Abnorml</td>\n",
       "      <td>NaN</td>\n",
       "    </tr>\n",
       "    <tr>\n",
       "      <th>1457</th>\n",
       "      <td>2918</td>\n",
       "      <td>85</td>\n",
       "      <td>RL</td>\n",
       "      <td>62.0</td>\n",
       "      <td>10441</td>\n",
       "      <td>Pave</td>\n",
       "      <td>NaN</td>\n",
       "      <td>Reg</td>\n",
       "      <td>Lvl</td>\n",
       "      <td>AllPub</td>\n",
       "      <td>...</td>\n",
       "      <td>0</td>\n",
       "      <td>NaN</td>\n",
       "      <td>MnPrv</td>\n",
       "      <td>Shed</td>\n",
       "      <td>700</td>\n",
       "      <td>7</td>\n",
       "      <td>2006</td>\n",
       "      <td>WD</td>\n",
       "      <td>Normal</td>\n",
       "      <td>NaN</td>\n",
       "    </tr>\n",
       "    <tr>\n",
       "      <th>1458</th>\n",
       "      <td>2919</td>\n",
       "      <td>60</td>\n",
       "      <td>RL</td>\n",
       "      <td>74.0</td>\n",
       "      <td>9627</td>\n",
       "      <td>Pave</td>\n",
       "      <td>NaN</td>\n",
       "      <td>Reg</td>\n",
       "      <td>Lvl</td>\n",
       "      <td>AllPub</td>\n",
       "      <td>...</td>\n",
       "      <td>0</td>\n",
       "      <td>NaN</td>\n",
       "      <td>NaN</td>\n",
       "      <td>NaN</td>\n",
       "      <td>0</td>\n",
       "      <td>11</td>\n",
       "      <td>2006</td>\n",
       "      <td>WD</td>\n",
       "      <td>Normal</td>\n",
       "      <td>NaN</td>\n",
       "    </tr>\n",
       "  </tbody>\n",
       "</table>\n",
       "<p>5 rows × 81 columns</p>\n",
       "</div>"
      ],
      "text/plain": [
       "             Id  MSSubClass MSZoning  LotFrontage  LotArea Street Alley  \\\n",
       "Test 1454  2915         160       RM         21.0     1936   Pave   NaN   \n",
       "     1455  2916         160       RM         21.0     1894   Pave   NaN   \n",
       "     1456  2917          20       RL        160.0    20000   Pave   NaN   \n",
       "     1457  2918          85       RL         62.0    10441   Pave   NaN   \n",
       "     1458  2919          60       RL         74.0     9627   Pave   NaN   \n",
       "\n",
       "          LotShape LandContour Utilities  ... PoolArea PoolQC  Fence  \\\n",
       "Test 1454      Reg         Lvl    AllPub  ...        0    NaN    NaN   \n",
       "     1455      Reg         Lvl    AllPub  ...        0    NaN    NaN   \n",
       "     1456      Reg         Lvl    AllPub  ...        0    NaN    NaN   \n",
       "     1457      Reg         Lvl    AllPub  ...        0    NaN  MnPrv   \n",
       "     1458      Reg         Lvl    AllPub  ...        0    NaN    NaN   \n",
       "\n",
       "          MiscFeature MiscVal MoSold YrSold  SaleType  SaleCondition  \\\n",
       "Test 1454         NaN       0      6   2006        WD         Normal   \n",
       "     1455         NaN       0      4   2006        WD        Abnorml   \n",
       "     1456         NaN       0      9   2006        WD        Abnorml   \n",
       "     1457        Shed     700      7   2006        WD         Normal   \n",
       "     1458         NaN       0     11   2006        WD         Normal   \n",
       "\n",
       "           SalePrice  \n",
       "Test 1454        NaN  \n",
       "     1455        NaN  \n",
       "     1456        NaN  \n",
       "     1457        NaN  \n",
       "     1458        NaN  \n",
       "\n",
       "[5 rows x 81 columns]"
      ]
     },
     "execution_count": 3,
     "metadata": {},
     "output_type": "execute_result"
    }
   ],
   "source": [
    "df.tail()"
   ]
  },
  {
   "cell_type": "markdown",
   "metadata": {},
   "source": [
    "# Inspect Target Variable: Sale Price"
   ]
  },
  {
   "cell_type": "code",
   "execution_count": 4,
   "metadata": {},
   "outputs": [
    {
     "data": {
      "text/plain": [
       "<AxesSubplot:>"
      ]
     },
     "execution_count": 4,
     "metadata": {},
     "output_type": "execute_result"
    },
    {
     "data": {
      "image/png": "[encoded data removed]",
      "text/plain": [
       "<Figure size 432x288 with 1 Axes>"
      ]
     },
     "metadata": {
      "needs_background": "light"
     },
     "output_type": "display_data"
    }
   ],
   "source": [
    "df['SalePrice'].hist(bins = 30)"
   ]
  },
  {
   "cell_type": "code",
   "execution_count": 5,
   "metadata": {},
   "outputs": [
    {
     "name": "stdout",
     "output_type": "stream",
     "text": [
      "Skewness: 1.882876\n",
      "Kurtosis: 6.536282\n"
     ]
    }
   ],
   "source": [
    "# skewness and kurtosis\n",
    "print (\"Skewness: %f\" % df['SalePrice'].skew())\n",
    "print (\"Kurtosis: %f\" % df['SalePrice'].kurt())"
   ]
  },
  {
   "cell_type": "markdown",
   "metadata": {},
   "source": [
    "Sale Price is approximately normal, but is right skewed. This will be addressed later."
   ]
  },
  {
   "cell_type": "code",
   "execution_count": 6,
   "metadata": {},
   "outputs": [
    {
     "data": {
      "text/plain": [
       "SalePrice        1.000000\n",
       "OverallQual      0.790982\n",
       "GrLivArea        0.708624\n",
       "GarageCars       0.640409\n",
       "GarageArea       0.623431\n",
       "TotalBsmtSF      0.613581\n",
       "1stFlrSF         0.605852\n",
       "FullBath         0.560664\n",
       "TotRmsAbvGrd     0.533723\n",
       "YearBuilt        0.522897\n",
       "YearRemodAdd     0.507101\n",
       "GarageYrBlt      0.486362\n",
       "MasVnrArea       0.477493\n",
       "Fireplaces       0.466929\n",
       "BsmtFinSF1       0.386420\n",
       "LotFrontage      0.351799\n",
       "WoodDeckSF       0.324413\n",
       "2ndFlrSF         0.319334\n",
       "OpenPorchSF      0.315856\n",
       "HalfBath         0.284108\n",
       "LotArea          0.263843\n",
       "BsmtFullBath     0.227122\n",
       "BsmtUnfSF        0.214479\n",
       "BedroomAbvGr     0.168213\n",
       "ScreenPorch      0.111447\n",
       "PoolArea         0.092404\n",
       "MoSold           0.046432\n",
       "3SsnPorch        0.044584\n",
       "BsmtFinSF2      -0.011378\n",
       "BsmtHalfBath    -0.016844\n",
       "MiscVal         -0.021190\n",
       "Id              -0.021917\n",
       "LowQualFinSF    -0.025606\n",
       "YrSold          -0.028923\n",
       "OverallCond     -0.077856\n",
       "MSSubClass      -0.084284\n",
       "EnclosedPorch   -0.128578\n",
       "KitchenAbvGr    -0.135907\n",
       "Name: SalePrice, dtype: float64"
      ]
     },
     "execution_count": 6,
     "metadata": {},
     "output_type": "execute_result"
    }
   ],
   "source": [
    "# rank features by correlation with SalePrice\n",
    "\n",
    "df.corr()['SalePrice'].sort_values(ascending = False)"
   ]
  },
  {
   "cell_type": "markdown",
   "metadata": {},
   "source": [
    "It appears that some features are not well correlated with Sale Price. we will not eliminate any features yet, but this is good to note; there is room for paring down our model."
   ]
  },
  {
   "cell_type": "markdown",
   "metadata": {},
   "source": [
    "# Fill in Missing Values"
   ]
  },
  {
   "cell_type": "code",
   "execution_count": 7,
   "metadata": {},
   "outputs": [
    {
     "data": {
      "text/plain": [
       "MSZoning           4\n",
       "LotFrontage      486\n",
       "Alley           2721\n",
       "Utilities          2\n",
       "Exterior1st        1\n",
       "Exterior2nd        1\n",
       "MasVnrType        24\n",
       "MasVnrArea        23\n",
       "BsmtQual          81\n",
       "BsmtCond          82\n",
       "BsmtExposure      82\n",
       "BsmtFinType1      79\n",
       "BsmtFinSF1         1\n",
       "BsmtFinType2      80\n",
       "BsmtFinSF2         1\n",
       "BsmtUnfSF          1\n",
       "TotalBsmtSF        1\n",
       "Electrical         1\n",
       "BsmtFullBath       2\n",
       "BsmtHalfBath       2\n",
       "KitchenQual        1\n",
       "Functional         2\n",
       "FireplaceQu     1420\n",
       "GarageType       157\n",
       "GarageYrBlt      159\n",
       "GarageFinish     159\n",
       "GarageCars         1\n",
       "GarageArea         1\n",
       "GarageQual       159\n",
       "GarageCond       159\n",
       "PoolQC          2909\n",
       "Fence           2348\n",
       "MiscFeature     2814\n",
       "SaleType           1\n",
       "SalePrice       1459\n",
       "dtype: int64"
      ]
     },
     "execution_count": 7,
     "metadata": {},
     "output_type": "execute_result"
    }
   ],
   "source": [
    "# identify all columns with at least one missing value\n",
    "null_frame = pd.isnull(df).sum()\n",
    "null_frame[null_frame > 0]"
   ]
  },
  {
   "cell_type": "markdown",
   "metadata": {},
   "source": [
    "Not all missing values will be treated equally. Some of them are more meaningful than others. There will be four categories for columns with missing data:\n",
    "- Mode filled: categorical features without a meaningful NA\n",
    "- Mean filled: numerical features without meaningful NA\n",
    "- 'None' filled: categorical features with a meaningful NA\n",
    "- Zero filled: numerical features with a meaningful NA"
   ]
  },
  {
   "cell_type": "code",
   "execution_count": 8,
   "metadata": {},
   "outputs": [],
   "source": [
    "mode_fill = ['MSZoning',\n",
    "             'Utilities',\n",
    "             'Exterior1st',\n",
    "             'Exterior2nd',\n",
    "             'Electrical',\n",
    "             'KitchenQual',\n",
    "             'Functional',\n",
    "             'SaleType'\n",
    "            ]\n",
    "mean_fill = ['LotFrontage']\n",
    "none_fill = ['Alley',\n",
    "             'MasVnrType',\n",
    "             'BsmtQual',\n",
    "             'BsmtCond',\n",
    "             'BsmtExposure',\n",
    "             'BsmtFinType1',\n",
    "             'BsmtFinType2',\n",
    "             'FireplaceQu',\n",
    "             'GarageType',\n",
    "             'GarageFinish',\n",
    "             'GarageQual',\n",
    "             'GarageCond',\n",
    "             'PoolQC',\n",
    "             'Fence',\n",
    "             'MiscFeature'\n",
    "            ]\n",
    "zero_fill = ['MasVnrArea',\n",
    "             'BsmtFinSF1',\n",
    "             'BsmtFinSF2',\n",
    "             'BsmtUnfSF',\n",
    "             'TotalBsmtSF',\n",
    "             'BsmtFullBath',\n",
    "             'BsmtHalfBath',\n",
    "             'GarageYrBlt',\n",
    "             'GarageCars',\n",
    "             'GarageArea'\n",
    "            ]"
   ]
  },
  {
   "cell_type": "code",
   "execution_count": 9,
   "metadata": {},
   "outputs": [],
   "source": [
    "# construct four for (ha!) loops to impute missing values\n",
    "for feature in mode_fill:\n",
    "    df[feature] = df[feature].fillna(mode(df[feature]))\n",
    "\n",
    "for feature in mean_fill:\n",
    "    df[feature] = df[feature].fillna(np.mean(df[feature]))\n",
    "\n",
    "for feature in none_fill:\n",
    "    df[feature] = df[feature].fillna('None')\n",
    "    \n",
    "for feature in zero_fill:\n",
    "    df[feature] = df[feature].fillna(0)"
   ]
  },
  {
   "cell_type": "markdown",
   "metadata": {},
   "source": [
    "Now verify that all the missing values are taken care of:"
   ]
  },
  {
   "cell_type": "code",
   "execution_count": 10,
   "metadata": {},
   "outputs": [
    {
     "data": {
      "text/plain": [
       "SalePrice    1459\n",
       "dtype: int64"
      ]
     },
     "execution_count": 10,
     "metadata": {},
     "output_type": "execute_result"
    }
   ],
   "source": [
    "null_frame_check = pd.isnull(df).sum()\n",
    "null_frame_check[null_frame_check > 0]"
   ]
  },
  {
   "cell_type": "markdown",
   "metadata": {},
   "source": [
    "Good. Sale price is still registering as NA because of the test set of data."
   ]
  },
  {
   "cell_type": "markdown",
   "metadata": {},
   "source": [
    "# Data Wrangling, Dimension Reduction,  Feature Engineering"
   ]
  },
  {
   "cell_type": "markdown",
   "metadata": {},
   "source": [
    "First we will attempt to normalize the target variable. Since SalePrice is right skewed, we will attempt a logarithmic transformation."
   ]
  },
  {
   "cell_type": "code",
   "execution_count": 11,
   "metadata": {},
   "outputs": [
    {
     "name": "stdout",
     "output_type": "stream",
     "text": [
      "Skewness: 0.632800\n",
      "Kurtosis: 1.877368\n"
     ]
    },
    {
     "data": {
      "image/png": "[encoded data removed]",
      "text/plain": [
       "<Figure size 432x288 with 1 Axes>"
      ]
     },
     "metadata": {
      "needs_background": "light"
     },
     "output_type": "display_data"
    }
   ],
   "source": [
    "np.log(df['SalePrice']).hist(bins = 40)\n",
    "print ('Skewness: %f' % np.log(df['SalePrice'].skew()))\n",
    "print ('Kurtosis: %f' % np.log(df['SalePrice'].kurt()))"
   ]
  },
  {
   "cell_type": "markdown",
   "metadata": {},
   "source": [
    "A log transformation bring the skewness down from 1.9 to 0.6. We will create a new feature with the log of the price."
   ]
  },
  {
   "cell_type": "code",
   "execution_count": 12,
   "metadata": {},
   "outputs": [
    {
     "data": {
      "text/plain": [
       "Train  0    12.247694\n",
       "       1    12.109011\n",
       "       2    12.317167\n",
       "       3    11.849398\n",
       "       4    12.429216\n",
       "Name: LogPrice, dtype: float64"
      ]
     },
     "execution_count": 12,
     "metadata": {},
     "output_type": "execute_result"
    }
   ],
   "source": [
    "df['LogPrice'] = np.log(df['SalePrice'])\n",
    "df['LogPrice'].head()"
   ]
  },
  {
   "cell_type": "markdown",
   "metadata": {},
   "source": [
    "Now that the data is clean, let's look again at the correlations with SalePrice:"
   ]
  },
  {
   "cell_type": "code",
   "execution_count": 13,
   "metadata": {},
   "outputs": [
    {
     "data": {
      "text/plain": [
       "SalePrice        1.000000\n",
       "LogPrice         0.948374\n",
       "OverallQual      0.790982\n",
       "GrLivArea        0.708624\n",
       "GarageCars       0.640409\n",
       "GarageArea       0.623431\n",
       "TotalBsmtSF      0.613581\n",
       "1stFlrSF         0.605852\n",
       "FullBath         0.560664\n",
       "TotRmsAbvGrd     0.533723\n",
       "YearBuilt        0.522897\n",
       "YearRemodAdd     0.507101\n",
       "MasVnrArea       0.472614\n",
       "Fireplaces       0.466929\n",
       "BsmtFinSF1       0.386420\n",
       "LotFrontage      0.334820\n",
       "WoodDeckSF       0.324413\n",
       "2ndFlrSF         0.319334\n",
       "OpenPorchSF      0.315856\n",
       "HalfBath         0.284108\n",
       "LotArea          0.263843\n",
       "GarageYrBlt      0.261366\n",
       "BsmtFullBath     0.227122\n",
       "BsmtUnfSF        0.214479\n",
       "BedroomAbvGr     0.168213\n",
       "ScreenPorch      0.111447\n",
       "PoolArea         0.092404\n",
       "MoSold           0.046432\n",
       "3SsnPorch        0.044584\n",
       "BsmtFinSF2      -0.011378\n",
       "BsmtHalfBath    -0.016844\n",
       "MiscVal         -0.021190\n",
       "Id              -0.021917\n",
       "LowQualFinSF    -0.025606\n",
       "YrSold          -0.028923\n",
       "OverallCond     -0.077856\n",
       "MSSubClass      -0.084284\n",
       "EnclosedPorch   -0.128578\n",
       "KitchenAbvGr    -0.135907\n",
       "Name: SalePrice, dtype: float64"
      ]
     },
     "execution_count": 13,
     "metadata": {},
     "output_type": "execute_result"
    }
   ],
   "source": [
    "df.corr()['SalePrice'].sort_values(ascending = False)"
   ]
  },
  {
   "cell_type": "markdown",
   "metadata": {},
   "source": [
    "Let's examine the plot of Garage Cars vs. Garage Area. They have almost the same correlation with SalePrice and probably tell us the same information."
   ]
  },
  {
   "cell_type": "code",
   "execution_count": 14,
   "metadata": {},
   "outputs": [
    {
     "data": {
      "text/plain": [
       "<AxesSubplot:xlabel='GarageCars', ylabel='GarageArea'>"
      ]
     },
     "execution_count": 14,
     "metadata": {},
     "output_type": "execute_result"
    },
    {
     "data": {
      "image/png": "[encoded data removed]",
      "text/plain": [
       "<Figure size 432x288 with 1 Axes>"
      ]
     },
     "metadata": {
      "needs_background": "light"
     },
     "output_type": "display_data"
    }
   ],
   "source": [
    "df.plot.scatter('GarageCars','GarageArea')"
   ]
  },
  {
   "cell_type": "markdown",
   "metadata": {},
   "source": [
    "We will drop garage cars to avoid redundancy"
   ]
  },
  {
   "cell_type": "code",
   "execution_count": 15,
   "metadata": {},
   "outputs": [],
   "source": [
    "columns_to_drop = ['GarageCars',\n",
    "                   'PoolArea',\n",
    "                   'MoSold',\n",
    "                   '3SsnPorch',\n",
    "                   'BsmtFinSF2',\n",
    "                   'BsmtHalfBath',\n",
    "                   'MiscVal',\n",
    "                   'LowQualFinSF',\n",
    "                   'YrSold',\n",
    "                   'OverallCond'\n",
    "                  ]\n",
    "for column in columns_to_drop:\n",
    "    df = df.drop(column, axis = 1)"
   ]
  },
  {
   "cell_type": "code",
   "execution_count": 16,
   "metadata": {},
   "outputs": [],
   "source": [
    "# according to the data description, MSSubClass is actually categorical\n",
    "df['MSSubClass'] = df['MSSubClass'].astype('str')"
   ]
  },
  {
   "cell_type": "markdown",
   "metadata": {},
   "source": [
    "Let's consider whether any of our categorical variables are ordinal in nature and correct that.\n",
    "\n",
    "The following variables would be considered ordinal:\n",
    " - ExterQual\n",
    " - ExterCond\n",
    " - BsmtQual\n",
    " - BsmtCond\n",
    " - BsmtExposure\n",
    " - BsmtFinType1\n",
    " - BsmtFinType2\n",
    " - HeatingQC\n",
    " - KitchenQual\n",
    " - Functional\n",
    " - FireplaceQu\n",
    " - GarageFinish\n",
    " - GarageQual\n",
    " - GarageCond\n",
    " - PoolQC\n",
    " - Fence\n",
    " \n",
    "Apparently it's really good that we thought about it this way. By making these numerical, we avoid overburdening our model with dummy variables. We will now encode these numerically according to the following schema."
   ]
  },
  {
   "cell_type": "code",
   "execution_count": 17,
   "metadata": {},
   "outputs": [],
   "source": [
    "schema1 = {'Ex':4,\n",
    "           'Gd':3,\n",
    "           'TA':2,\n",
    "           'Fa':1,\n",
    "           'Po':0,\n",
    "          } # ExterQual, ExterCond, HeatingQC, KitchenQual\n",
    "schema2 = {'Ex':5,\n",
    "           'Gd':4,\n",
    "           'TA':3,\n",
    "           'Fa':2,\n",
    "           'Po':1,\n",
    "           'None':0\n",
    "          } # BsmtQual, BsmtCond, FireplaceQu, GarageQual, GarageCond, PoolQC\n",
    "schema3 = {\n",
    "           'Gd':4,\n",
    "           'Av':3,\n",
    "           'Mn':2,\n",
    "           'No':1,\n",
    "           'None':0\n",
    "          } # BsmtExposure\n",
    "schema4 = {'GLQ':6,\n",
    "           'ALQ':5,\n",
    "           'BLQ':4,\n",
    "           'Rec':3,\n",
    "           'LwQ':2,\n",
    "           'Unf':1,\n",
    "           'None':0\n",
    "          } # BsmtFinType1, BsmtFinType2\n",
    "schema5 = {'Typ':7,\n",
    "           'Min1':6,\n",
    "           'Min2':5,\n",
    "           'Mod':4,\n",
    "           'Maj1':3,\n",
    "           'Maj2':2,\n",
    "           'Sev':1,\n",
    "           'Sal':0\n",
    "          } # Functional\n",
    "schema6 = {'Fin':3,\n",
    "           'RFn':2,\n",
    "           'Unf':1,\n",
    "           'None':0\n",
    "          } # GarageFinish\n",
    "schema7 = {'GdPrv':4,\n",
    "           'MnPrv':3,\n",
    "           'GdWo':2,\n",
    "           'MnWw':1,\n",
    "           'None':0\n",
    "          } # Fence"
   ]
  },
  {
   "cell_type": "code",
   "execution_count": 18,
   "metadata": {},
   "outputs": [],
   "source": [
    "def encoder(val, schema):\n",
    "    if val in schema.keys():\n",
    "        val = schema[val]\n",
    "    return val"
   ]
  },
  {
   "cell_type": "code",
   "execution_count": 19,
   "metadata": {},
   "outputs": [],
   "source": [
    "for x in ['ExterQual', 'ExterCond', 'HeatingQC', 'KitchenQual']:\n",
    "    df[x] = df[x].apply(lambda x: encoder(x, schema1))\n",
    "\n",
    "for x in ['BsmtQual', 'BsmtCond', 'FireplaceQu', 'GarageQual', 'GarageCond', 'PoolQC']:\n",
    "    df[x] = df[x].apply(lambda x: encoder(x, schema2))\n",
    "\n",
    "df['BsmtExposure'] = df['BsmtExposure'].apply(lambda x: encoder(x, schema3))\n",
    "\n",
    "for x in ['BsmtFinType1', 'BsmtFinType2']:\n",
    "    df[x] = df[x].apply(lambda x: encoder(x, schema4))\n",
    "    \n",
    "df['Functional'] = df['Functional'].apply(lambda x: encoder(x, schema5))\n",
    "\n",
    "df['GarageFinish'] = df['GarageFinish'].apply(lambda x: encoder(x, schema6))\n",
    "\n",
    "df['Fence'] = df['Fence'].apply(lambda x: encoder(x, schema7))"
   ]
  },
  {
   "cell_type": "markdown",
   "metadata": {},
   "source": [
    "Now that we've made those ordinal variables numerical, let's look at their correlation again."
   ]
  },
  {
   "cell_type": "code",
   "execution_count": 20,
   "metadata": {},
   "outputs": [
    {
     "data": {
      "text/plain": [
       "SalePrice       1.000000\n",
       "ExterQual       0.682639\n",
       "KitchenQual     0.659600\n",
       "BsmtQual        0.585207\n",
       "GarageFinish    0.549247\n",
       "FireplaceQu     0.520438\n",
       "HeatingQC       0.427649\n",
       "BsmtExposure    0.374696\n",
       "BsmtFinType1    0.304908\n",
       "GarageQual      0.273839\n",
       "GarageCond      0.263191\n",
       "BsmtCond        0.212607\n",
       "PoolQC          0.111696\n",
       "Functional      0.107619\n",
       "ExterCond       0.018899\n",
       "BsmtFinType2   -0.005323\n",
       "Fence          -0.146942\n",
       "Name: SalePrice, dtype: float64"
      ]
     },
     "execution_count": 20,
     "metadata": {},
     "output_type": "execute_result"
    }
   ],
   "source": [
    "ordinals_plus_sp = ['ExterQual',\n",
    "  'ExterCond',\n",
    "  'BsmtQual',\n",
    "  'BsmtCond',\n",
    "  'BsmtExposure',\n",
    "  'BsmtFinType1',\n",
    "  'BsmtFinType2',\n",
    "  'HeatingQC',\n",
    "  'KitchenQual',\n",
    "  'Functional',\n",
    "  'FireplaceQu',\n",
    "  'GarageFinish',\n",
    "  'GarageQual',\n",
    "  'GarageCond',\n",
    "  'PoolQC',\n",
    "  'Fence',\n",
    "  'SalePrice']\n",
    "df[ordinals_plus_sp].corr()['SalePrice'].sort_values(ascending = False)"
   ]
  },
  {
   "cell_type": "code",
   "execution_count": 21,
   "metadata": {},
   "outputs": [],
   "source": [
    "columns_to_drop = ['ExterCond','BsmtFinType2']\n",
    "df = df.drop(columns_to_drop, axis = 1)"
   ]
  },
  {
   "cell_type": "code",
   "execution_count": 22,
   "metadata": {},
   "outputs": [
    {
     "data": {
      "text/html": [
       "<div>\n",
       "<style scoped>\n",
       "    .dataframe tbody tr th:only-of-type {\n",
       "        vertical-align: middle;\n",
       "    }\n",
       "\n",
       "    .dataframe tbody tr th {\n",
       "        vertical-align: top;\n",
       "    }\n",
       "\n",
       "    .dataframe thead th {\n",
       "        text-align: right;\n",
       "    }\n",
       "</style>\n",
       "<table border=\"1\" class=\"dataframe\">\n",
       "  <thead>\n",
       "    <tr style=\"text-align: right;\">\n",
       "      <th></th>\n",
       "      <th></th>\n",
       "      <th>Id</th>\n",
       "      <th>MSSubClass</th>\n",
       "      <th>MSZoning</th>\n",
       "      <th>LotFrontage</th>\n",
       "      <th>LotArea</th>\n",
       "      <th>Street</th>\n",
       "      <th>Alley</th>\n",
       "      <th>LotShape</th>\n",
       "      <th>LandContour</th>\n",
       "      <th>Utilities</th>\n",
       "      <th>...</th>\n",
       "      <th>OpenPorchSF</th>\n",
       "      <th>EnclosedPorch</th>\n",
       "      <th>ScreenPorch</th>\n",
       "      <th>PoolQC</th>\n",
       "      <th>Fence</th>\n",
       "      <th>MiscFeature</th>\n",
       "      <th>SaleType</th>\n",
       "      <th>SaleCondition</th>\n",
       "      <th>SalePrice</th>\n",
       "      <th>LogPrice</th>\n",
       "    </tr>\n",
       "  </thead>\n",
       "  <tbody>\n",
       "    <tr>\n",
       "      <th rowspan=\"5\" valign=\"top\">Train</th>\n",
       "      <th>0</th>\n",
       "      <td>1</td>\n",
       "      <td>60</td>\n",
       "      <td>RL</td>\n",
       "      <td>65.0</td>\n",
       "      <td>8450</td>\n",
       "      <td>Pave</td>\n",
       "      <td>None</td>\n",
       "      <td>Reg</td>\n",
       "      <td>Lvl</td>\n",
       "      <td>AllPub</td>\n",
       "      <td>...</td>\n",
       "      <td>61</td>\n",
       "      <td>0</td>\n",
       "      <td>0</td>\n",
       "      <td>0</td>\n",
       "      <td>0</td>\n",
       "      <td>None</td>\n",
       "      <td>WD</td>\n",
       "      <td>Normal</td>\n",
       "      <td>208500.0</td>\n",
       "      <td>12.247694</td>\n",
       "    </tr>\n",
       "    <tr>\n",
       "      <th>1</th>\n",
       "      <td>2</td>\n",
       "      <td>20</td>\n",
       "      <td>RL</td>\n",
       "      <td>80.0</td>\n",
       "      <td>9600</td>\n",
       "      <td>Pave</td>\n",
       "      <td>None</td>\n",
       "      <td>Reg</td>\n",
       "      <td>Lvl</td>\n",
       "      <td>AllPub</td>\n",
       "      <td>...</td>\n",
       "      <td>0</td>\n",
       "      <td>0</td>\n",
       "      <td>0</td>\n",
       "      <td>0</td>\n",
       "      <td>0</td>\n",
       "      <td>None</td>\n",
       "      <td>WD</td>\n",
       "      <td>Normal</td>\n",
       "      <td>181500.0</td>\n",
       "      <td>12.109011</td>\n",
       "    </tr>\n",
       "    <tr>\n",
       "      <th>2</th>\n",
       "      <td>3</td>\n",
       "      <td>60</td>\n",
       "      <td>RL</td>\n",
       "      <td>68.0</td>\n",
       "      <td>11250</td>\n",
       "      <td>Pave</td>\n",
       "      <td>None</td>\n",
       "      <td>IR1</td>\n",
       "      <td>Lvl</td>\n",
       "      <td>AllPub</td>\n",
       "      <td>...</td>\n",
       "      <td>42</td>\n",
       "      <td>0</td>\n",
       "      <td>0</td>\n",
       "      <td>0</td>\n",
       "      <td>0</td>\n",
       "      <td>None</td>\n",
       "      <td>WD</td>\n",
       "      <td>Normal</td>\n",
       "      <td>223500.0</td>\n",
       "      <td>12.317167</td>\n",
       "    </tr>\n",
       "    <tr>\n",
       "      <th>3</th>\n",
       "      <td>4</td>\n",
       "      <td>70</td>\n",
       "      <td>RL</td>\n",
       "      <td>60.0</td>\n",
       "      <td>9550</td>\n",
       "      <td>Pave</td>\n",
       "      <td>None</td>\n",
       "      <td>IR1</td>\n",
       "      <td>Lvl</td>\n",
       "      <td>AllPub</td>\n",
       "      <td>...</td>\n",
       "      <td>35</td>\n",
       "      <td>272</td>\n",
       "      <td>0</td>\n",
       "      <td>0</td>\n",
       "      <td>0</td>\n",
       "      <td>None</td>\n",
       "      <td>WD</td>\n",
       "      <td>Abnorml</td>\n",
       "      <td>140000.0</td>\n",
       "      <td>11.849398</td>\n",
       "    </tr>\n",
       "    <tr>\n",
       "      <th>4</th>\n",
       "      <td>5</td>\n",
       "      <td>60</td>\n",
       "      <td>RL</td>\n",
       "      <td>84.0</td>\n",
       "      <td>14260</td>\n",
       "      <td>Pave</td>\n",
       "      <td>None</td>\n",
       "      <td>IR1</td>\n",
       "      <td>Lvl</td>\n",
       "      <td>AllPub</td>\n",
       "      <td>...</td>\n",
       "      <td>84</td>\n",
       "      <td>0</td>\n",
       "      <td>0</td>\n",
       "      <td>0</td>\n",
       "      <td>0</td>\n",
       "      <td>None</td>\n",
       "      <td>WD</td>\n",
       "      <td>Normal</td>\n",
       "      <td>250000.0</td>\n",
       "      <td>12.429216</td>\n",
       "    </tr>\n",
       "    <tr>\n",
       "      <th>...</th>\n",
       "      <th>...</th>\n",
       "      <td>...</td>\n",
       "      <td>...</td>\n",
       "      <td>...</td>\n",
       "      <td>...</td>\n",
       "      <td>...</td>\n",
       "      <td>...</td>\n",
       "      <td>...</td>\n",
       "      <td>...</td>\n",
       "      <td>...</td>\n",
       "      <td>...</td>\n",
       "      <td>...</td>\n",
       "      <td>...</td>\n",
       "      <td>...</td>\n",
       "      <td>...</td>\n",
       "      <td>...</td>\n",
       "      <td>...</td>\n",
       "      <td>...</td>\n",
       "      <td>...</td>\n",
       "      <td>...</td>\n",
       "      <td>...</td>\n",
       "      <td>...</td>\n",
       "    </tr>\n",
       "    <tr>\n",
       "      <th rowspan=\"5\" valign=\"top\">Test</th>\n",
       "      <th>1454</th>\n",
       "      <td>2915</td>\n",
       "      <td>160</td>\n",
       "      <td>RM</td>\n",
       "      <td>21.0</td>\n",
       "      <td>1936</td>\n",
       "      <td>Pave</td>\n",
       "      <td>None</td>\n",
       "      <td>Reg</td>\n",
       "      <td>Lvl</td>\n",
       "      <td>AllPub</td>\n",
       "      <td>...</td>\n",
       "      <td>0</td>\n",
       "      <td>0</td>\n",
       "      <td>0</td>\n",
       "      <td>0</td>\n",
       "      <td>0</td>\n",
       "      <td>None</td>\n",
       "      <td>WD</td>\n",
       "      <td>Normal</td>\n",
       "      <td>NaN</td>\n",
       "      <td>NaN</td>\n",
       "    </tr>\n",
       "    <tr>\n",
       "      <th>1455</th>\n",
       "      <td>2916</td>\n",
       "      <td>160</td>\n",
       "      <td>RM</td>\n",
       "      <td>21.0</td>\n",
       "      <td>1894</td>\n",
       "      <td>Pave</td>\n",
       "      <td>None</td>\n",
       "      <td>Reg</td>\n",
       "      <td>Lvl</td>\n",
       "      <td>AllPub</td>\n",
       "      <td>...</td>\n",
       "      <td>24</td>\n",
       "      <td>0</td>\n",
       "      <td>0</td>\n",
       "      <td>0</td>\n",
       "      <td>0</td>\n",
       "      <td>None</td>\n",
       "      <td>WD</td>\n",
       "      <td>Abnorml</td>\n",
       "      <td>NaN</td>\n",
       "      <td>NaN</td>\n",
       "    </tr>\n",
       "    <tr>\n",
       "      <th>1456</th>\n",
       "      <td>2917</td>\n",
       "      <td>20</td>\n",
       "      <td>RL</td>\n",
       "      <td>160.0</td>\n",
       "      <td>20000</td>\n",
       "      <td>Pave</td>\n",
       "      <td>None</td>\n",
       "      <td>Reg</td>\n",
       "      <td>Lvl</td>\n",
       "      <td>AllPub</td>\n",
       "      <td>...</td>\n",
       "      <td>0</td>\n",
       "      <td>0</td>\n",
       "      <td>0</td>\n",
       "      <td>0</td>\n",
       "      <td>0</td>\n",
       "      <td>None</td>\n",
       "      <td>WD</td>\n",
       "      <td>Abnorml</td>\n",
       "      <td>NaN</td>\n",
       "      <td>NaN</td>\n",
       "    </tr>\n",
       "    <tr>\n",
       "      <th>1457</th>\n",
       "      <td>2918</td>\n",
       "      <td>85</td>\n",
       "      <td>RL</td>\n",
       "      <td>62.0</td>\n",
       "      <td>10441</td>\n",
       "      <td>Pave</td>\n",
       "      <td>None</td>\n",
       "      <td>Reg</td>\n",
       "      <td>Lvl</td>\n",
       "      <td>AllPub</td>\n",
       "      <td>...</td>\n",
       "      <td>32</td>\n",
       "      <td>0</td>\n",
       "      <td>0</td>\n",
       "      <td>0</td>\n",
       "      <td>3</td>\n",
       "      <td>Shed</td>\n",
       "      <td>WD</td>\n",
       "      <td>Normal</td>\n",
       "      <td>NaN</td>\n",
       "      <td>NaN</td>\n",
       "    </tr>\n",
       "    <tr>\n",
       "      <th>1458</th>\n",
       "      <td>2919</td>\n",
       "      <td>60</td>\n",
       "      <td>RL</td>\n",
       "      <td>74.0</td>\n",
       "      <td>9627</td>\n",
       "      <td>Pave</td>\n",
       "      <td>None</td>\n",
       "      <td>Reg</td>\n",
       "      <td>Lvl</td>\n",
       "      <td>AllPub</td>\n",
       "      <td>...</td>\n",
       "      <td>48</td>\n",
       "      <td>0</td>\n",
       "      <td>0</td>\n",
       "      <td>0</td>\n",
       "      <td>0</td>\n",
       "      <td>None</td>\n",
       "      <td>WD</td>\n",
       "      <td>Normal</td>\n",
       "      <td>NaN</td>\n",
       "      <td>NaN</td>\n",
       "    </tr>\n",
       "  </tbody>\n",
       "</table>\n",
       "<p>2919 rows × 70 columns</p>\n",
       "</div>"
      ],
      "text/plain": [
       "              Id MSSubClass MSZoning  LotFrontage  LotArea Street Alley  \\\n",
       "Train 0        1         60       RL         65.0     8450   Pave  None   \n",
       "      1        2         20       RL         80.0     9600   Pave  None   \n",
       "      2        3         60       RL         68.0    11250   Pave  None   \n",
       "      3        4         70       RL         60.0     9550   Pave  None   \n",
       "      4        5         60       RL         84.0    14260   Pave  None   \n",
       "...          ...        ...      ...          ...      ...    ...   ...   \n",
       "Test  1454  2915        160       RM         21.0     1936   Pave  None   \n",
       "      1455  2916        160       RM         21.0     1894   Pave  None   \n",
       "      1456  2917         20       RL        160.0    20000   Pave  None   \n",
       "      1457  2918         85       RL         62.0    10441   Pave  None   \n",
       "      1458  2919         60       RL         74.0     9627   Pave  None   \n",
       "\n",
       "           LotShape LandContour Utilities  ... OpenPorchSF EnclosedPorch  \\\n",
       "Train 0         Reg         Lvl    AllPub  ...          61             0   \n",
       "      1         Reg         Lvl    AllPub  ...           0             0   \n",
       "      2         IR1         Lvl    AllPub  ...          42             0   \n",
       "      3         IR1         Lvl    AllPub  ...          35           272   \n",
       "      4         IR1         Lvl    AllPub  ...          84             0   \n",
       "...             ...         ...       ...  ...         ...           ...   \n",
       "Test  1454      Reg         Lvl    AllPub  ...           0             0   \n",
       "      1455      Reg         Lvl    AllPub  ...          24             0   \n",
       "      1456      Reg         Lvl    AllPub  ...           0             0   \n",
       "      1457      Reg         Lvl    AllPub  ...          32             0   \n",
       "      1458      Reg         Lvl    AllPub  ...          48             0   \n",
       "\n",
       "           ScreenPorch PoolQC Fence MiscFeature SaleType  SaleCondition  \\\n",
       "Train 0              0      0     0        None       WD         Normal   \n",
       "      1              0      0     0        None       WD         Normal   \n",
       "      2              0      0     0        None       WD         Normal   \n",
       "      3              0      0     0        None       WD        Abnorml   \n",
       "      4              0      0     0        None       WD         Normal   \n",
       "...                ...    ...   ...         ...      ...            ...   \n",
       "Test  1454           0      0     0        None       WD         Normal   \n",
       "      1455           0      0     0        None       WD        Abnorml   \n",
       "      1456           0      0     0        None       WD        Abnorml   \n",
       "      1457           0      0     3        Shed       WD         Normal   \n",
       "      1458           0      0     0        None       WD         Normal   \n",
       "\n",
       "            SalePrice   LogPrice  \n",
       "Train 0      208500.0  12.247694  \n",
       "      1      181500.0  12.109011  \n",
       "      2      223500.0  12.317167  \n",
       "      3      140000.0  11.849398  \n",
       "      4      250000.0  12.429216  \n",
       "...               ...        ...  \n",
       "Test  1454        NaN        NaN  \n",
       "      1455        NaN        NaN  \n",
       "      1456        NaN        NaN  \n",
       "      1457        NaN        NaN  \n",
       "      1458        NaN        NaN  \n",
       "\n",
       "[2919 rows x 70 columns]"
      ]
     },
     "execution_count": 22,
     "metadata": {},
     "output_type": "execute_result"
    }
   ],
   "source": [
    "df"
   ]
  },
  {
   "cell_type": "markdown",
   "metadata": {},
   "source": [
    "# Normalize numeric variables that are highly skewed"
   ]
  },
  {
   "cell_type": "code",
   "execution_count": 23,
   "metadata": {},
   "outputs": [],
   "source": [
    "numeric_columns = list(df.corr().columns)"
   ]
  },
  {
   "cell_type": "code",
   "execution_count": 24,
   "metadata": {},
   "outputs": [
    {
     "name": "stdout",
     "output_type": "stream",
     "text": [
      "LotFrontage   Skew: 1.646420\n",
      "LotArea   Skew: 12.829025\n",
      "MasVnrArea   Skew: 2.614936\n",
      "BsmtExposure   Skew: 1.117303\n",
      "BsmtFinSF1   Skew: 1.425963\n",
      "TotalBsmtSF   Skew: 1.157489\n",
      "1stFlrSF   Skew: 1.470360\n",
      "GrLivArea   Skew: 1.270010\n",
      "KitchenAbvGr   Skew: 4.304467\n",
      "WoodDeckSF   Skew: 1.843380\n",
      "OpenPorchSF   Skew: 2.536417\n",
      "EnclosedPorch   Skew: 4.005950\n",
      "ScreenPorch   Skew: 3.948723\n",
      "PoolQC   Skew: 18.418603\n",
      "Fence   Skew: 1.755731\n",
      "SalePrice   Skew: 1.882876\n"
     ]
    }
   ],
   "source": [
    "for attribute in numeric_columns:\n",
    "    if df[attribute].skew() > 1:\n",
    "        print (attribute + '   Skew: %f' % df[attribute].skew())"
   ]
  },
  {
   "cell_type": "markdown",
   "metadata": {},
   "source": [
    "We'll inspect the columns with the highest skew and see what can be done.\n",
    "\n",
    "First is lot area:"
   ]
  },
  {
   "cell_type": "code",
   "execution_count": 25,
   "metadata": {},
   "outputs": [
    {
     "data": {
      "text/plain": [
       "<AxesSubplot:title={'center':'Lot Area'}, ylabel='Frequency'>"
      ]
     },
     "execution_count": 25,
     "metadata": {},
     "output_type": "execute_result"
    },
    {
     "data": {
      "image/png": "[encoded data removed]",
      "text/plain": [
       "<Figure size 432x288 with 1 Axes>"
      ]
     },
     "metadata": {
      "needs_background": "light"
     },
     "output_type": "display_data"
    }
   ],
   "source": [
    "df['LotArea'].plot(kind = 'hist', title = 'Lot Area', bins = 30)"
   ]
  },
  {
   "cell_type": "code",
   "execution_count": 26,
   "metadata": {},
   "outputs": [
    {
     "data": {
      "text/plain": [
       "<AxesSubplot:title={'center':'Root Lot Area'}, ylabel='Frequency'>"
      ]
     },
     "execution_count": 26,
     "metadata": {},
     "output_type": "execute_result"
    },
    {
     "data": {
      "image/png": "[encoded data removed]",
      "text/plain": [
       "<Figure size 432x288 with 1 Axes>"
      ]
     },
     "metadata": {
      "needs_background": "light"
     },
     "output_type": "display_data"
    }
   ],
   "source": [
    "(df['LotArea'] ** 0.5).plot(kind = 'hist', title = 'Root Lot Area', bins = 30)"
   ]
  },
  {
   "cell_type": "code",
   "execution_count": 27,
   "metadata": {},
   "outputs": [],
   "source": [
    "df['LotAreaRoot'] = df['LotArea'] ** 0.5\n",
    "df = df.drop('LotArea', axis = 1)"
   ]
  },
  {
   "cell_type": "markdown",
   "metadata": {},
   "source": [
    "Now we'll look at masonry veneer area"
   ]
  },
  {
   "cell_type": "code",
   "execution_count": 28,
   "metadata": {},
   "outputs": [
    {
     "data": {
      "text/plain": [
       "<AxesSubplot:title={'center':'Masonry Veneer Area'}, ylabel='Frequency'>"
      ]
     },
     "execution_count": 28,
     "metadata": {},
     "output_type": "execute_result"
    },
    {
     "data": {
      "image/png": "[encoded data removed]",
      "text/plain": [
       "<Figure size 432x288 with 1 Axes>"
      ]
     },
     "metadata": {
      "needs_background": "light"
     },
     "output_type": "display_data"
    }
   ],
   "source": [
    "df['MasVnrArea'].plot(kind = 'hist', title = 'Masonry Veneer Area', bins = 20)"
   ]
  },
  {
   "cell_type": "code",
   "execution_count": 29,
   "metadata": {},
   "outputs": [
    {
     "data": {
      "text/plain": [
       "<AxesSubplot:title={'center':'Root Masonry Veneer Area'}, ylabel='Frequency'>"
      ]
     },
     "execution_count": 29,
     "metadata": {},
     "output_type": "execute_result"
    },
    {
     "data": {
      "image/png": "[encoded data removed]",
      "text/plain": [
       "<Figure size 432x288 with 1 Axes>"
      ]
     },
     "metadata": {
      "needs_background": "light"
     },
     "output_type": "display_data"
    }
   ],
   "source": [
    "(df['MasVnrArea'] ** 0.5).plot(kind = 'hist', title = 'Root Masonry Veneer Area', bins = 30)"
   ]
  },
  {
   "cell_type": "code",
   "execution_count": 30,
   "metadata": {},
   "outputs": [],
   "source": [
    "df['MasVnrAreaRoot'] = df['MasVnrArea'] ** 0.5\n",
    "df = df.drop('MasVnrArea', axis = 1)"
   ]
  },
  {
   "cell_type": "markdown",
   "metadata": {},
   "source": [
    "# Create Dummy Variables"
   ]
  },
  {
   "cell_type": "code",
   "execution_count": 31,
   "metadata": {},
   "outputs": [],
   "source": [
    "df = pd.get_dummies(df, drop_first = True)"
   ]
  },
  {
   "cell_type": "markdown",
   "metadata": {},
   "source": [
    "# Partition dataframe into train and test"
   ]
  },
  {
   "cell_type": "code",
   "execution_count": 32,
   "metadata": {},
   "outputs": [],
   "source": [
    "from sklearn.model_selection import train_test_split"
   ]
  },
  {
   "cell_type": "code",
   "execution_count": 33,
   "metadata": {},
   "outputs": [],
   "source": [
    "train_clean = df.xs(key = 'Train')\n",
    "test_clean = df.xs(key = 'Test')\n",
    "train_clean = train_clean.drop(['Id','SalePrice'], axis = 1)"
   ]
  },
  {
   "cell_type": "code",
   "execution_count": 34,
   "metadata": {},
   "outputs": [],
   "source": [
    "X = train_clean.drop('LogPrice', axis = 1)\n",
    "y = train_clean['LogPrice']"
   ]
  },
  {
   "cell_type": "code",
   "execution_count": 35,
   "metadata": {},
   "outputs": [],
   "source": [
    "X_train, X_test, y_train, y_test = train_test_split(X, y, \n",
    "                                                    test_size = 0.25, \n",
    "                                                    random_state = 0)"
   ]
  },
  {
   "cell_type": "markdown",
   "metadata": {},
   "source": [
    "# Models"
   ]
  },
  {
   "cell_type": "markdown",
   "metadata": {},
   "source": [
    "Import all modules"
   ]
  },
  {
   "cell_type": "code",
   "execution_count": 36,
   "metadata": {},
   "outputs": [],
   "source": [
    "from sklearn.linear_model import LinearRegression, Ridge, ElasticNetCV\n",
    "from sklearn import metrics\n",
    "from sklearn.model_selection import GridSearchCV\n",
    "from sklearn.model_selection import cross_val_score\n",
    "from sklearn.ensemble import GradientBoostingRegressor\n",
    "from sklearn.svm import SVR"
   ]
  },
  {
   "cell_type": "code",
   "execution_count": 37,
   "metadata": {},
   "outputs": [],
   "source": [
    "# Scorekeepers Table\n",
    "score_keeper = dict()"
   ]
  },
  {
   "cell_type": "markdown",
   "metadata": {},
   "source": [
    "## Linear Regression"
   ]
  },
  {
   "cell_type": "code",
   "execution_count": 38,
   "metadata": {},
   "outputs": [
    {
     "name": "stdout",
     "output_type": "stream",
     "text": [
      "Cross Validation RMSE:  0.13825191956376387\n"
     ]
    }
   ],
   "source": [
    "reg = LinearRegression()\n",
    "reg.fit(X_train, y_train)\n",
    "scores = cross_val_score(reg, X_train, y_train, cv = 5, scoring = 'neg_root_mean_squared_error')\n",
    "print ('Cross Validation RMSE: ', np.mean(scores) * -1)"
   ]
  },
  {
   "cell_type": "code",
   "execution_count": 39,
   "metadata": {},
   "outputs": [
    {
     "name": "stdout",
     "output_type": "stream",
     "text": [
      "RMSE of Linear Regression Model:  0.21100850332687104\n"
     ]
    }
   ],
   "source": [
    "predictions = reg.predict(X_test).reshape(-1,1)\n",
    "lm_rmse = np.sqrt(metrics.mean_squared_error(y_test, predictions))\n",
    "print ('RMSE of Linear Regression Model: ', \n",
    "       lm_rmse)\n",
    "score_keeper['Linear Regression'] = lm_rmse"
   ]
  },
  {
   "cell_type": "markdown",
   "metadata": {},
   "source": [
    "## Ridge Regression"
   ]
  },
  {
   "cell_type": "code",
   "execution_count": 40,
   "metadata": {},
   "outputs": [
    {
     "name": "stdout",
     "output_type": "stream",
     "text": [
      "Cross Validation RMSE:  0.13229831535445788\n"
     ]
    }
   ],
   "source": [
    "ridge = Ridge(alpha = 11.7)\n",
    "ridge.fit(X_train, y_train)\n",
    "scores = cross_val_score(ridge, X_train, y_train, cv = 5, scoring = 'neg_root_mean_squared_error')\n",
    "print ('Cross Validation RMSE: ', np.mean(scores) * -1)"
   ]
  },
  {
   "cell_type": "code",
   "execution_count": 41,
   "metadata": {},
   "outputs": [
    {
     "name": "stdout",
     "output_type": "stream",
     "text": [
      "RMSE of Ridge Model:  0.16949600615171515\n"
     ]
    }
   ],
   "source": [
    "predictions = ridge.predict(X_test).reshape(-1,1)\n",
    "ridge_rmse = np.sqrt(metrics.mean_squared_error(y_test, predictions))\n",
    "print ('RMSE of Ridge Model: ', \n",
    "       ridge_rmse)\n",
    "score_keeper['Ridge'] = ridge_rmse"
   ]
  },
  {
   "cell_type": "markdown",
   "metadata": {},
   "source": [
    "## Gradient Boosting Regression"
   ]
  },
  {
   "cell_type": "code",
   "execution_count": 42,
   "metadata": {},
   "outputs": [
    {
     "name": "stdout",
     "output_type": "stream",
     "text": [
      "Cross Validation RMSE:  0.14256486275276864\n"
     ]
    }
   ],
   "source": [
    "params = {'n_estimators':500,\n",
    "          'max_depth':4,\n",
    "          'min_samples_split':5,\n",
    "          'learning_rate':0.01,\n",
    "          'loss':'ls'\n",
    "         }\n",
    "gbr = GradientBoostingRegressor(**params)\n",
    "gbr.fit(X_train, y_train)\n",
    "scores = cross_val_score(gbr, X_train, y_train, cv = 5, scoring = 'neg_root_mean_squared_error')\n",
    "print ('Cross Validation RMSE: ', np.mean(scores) * -1)"
   ]
  },
  {
   "cell_type": "code",
   "execution_count": 43,
   "metadata": {},
   "outputs": [
    {
     "name": "stdout",
     "output_type": "stream",
     "text": [
      "RMSE of GBR Model:  0.12639031190298677\n"
     ]
    }
   ],
   "source": [
    "predictions = gbr.predict(X_test).reshape(-1,1)\n",
    "gbr_rmse = np.sqrt(metrics.mean_squared_error(y_test, predictions))\n",
    "print ('RMSE of GBR Model: ', \n",
    "       gbr_rmse)\n",
    "score_keeper['Gradient Boost'] = gbr_rmse"
   ]
  },
  {
   "cell_type": "markdown",
   "metadata": {},
   "source": [
    "## Elastic Net"
   ]
  },
  {
   "cell_type": "code",
   "execution_count": 44,
   "metadata": {},
   "outputs": [
    {
     "name": "stdout",
     "output_type": "stream",
     "text": [
      "RMSE of Elastic Net Model:  0.23175699690549317\n"
     ]
    }
   ],
   "source": [
    "elasticnet = ElasticNetCV(cv = 5, random_state = 0)\n",
    "elasticnet.fit(X_train, y_train)\n",
    "predictions = elasticnet.predict(X_test).reshape(-1,1)\n",
    "elastic_rmse = np.sqrt(metrics.mean_squared_error(y_test, predictions))\n",
    "print ('RMSE of Elastic Net Model: ', \n",
    "       elastic_rmse)\n",
    "score_keeper['Elastic Net'] = elastic_rmse"
   ]
  },
  {
   "cell_type": "markdown",
   "metadata": {},
   "source": [
    "## Support Vector Machine"
   ]
  },
  {
   "cell_type": "code",
   "execution_count": 45,
   "metadata": {},
   "outputs": [
    {
     "name": "stdout",
     "output_type": "stream",
     "text": [
      "RMSE of SVM:  0.17092601858733525\n"
     ]
    }
   ],
   "source": [
    "svm = SVR()\n",
    "svm.fit(X_train,y_train)\n",
    "predictions = svm.predict(X_test).reshape(-1,1)\n",
    "svm_rmse = np.sqrt(metrics.mean_squared_error(y_test, predictions))\n",
    "print ('RMSE of SVM: ', \n",
    "       svm_rmse)\n",
    "score_keeper['SVM'] = svm_rmse"
   ]
  },
  {
   "cell_type": "markdown",
   "metadata": {},
   "source": [
    "# Model Comparison"
   ]
  },
  {
   "cell_type": "code",
   "execution_count": 46,
   "metadata": {},
   "outputs": [
    {
     "data": {
      "text/html": [
       "<div>\n",
       "<style scoped>\n",
       "    .dataframe tbody tr th:only-of-type {\n",
       "        vertical-align: middle;\n",
       "    }\n",
       "\n",
       "    .dataframe tbody tr th {\n",
       "        vertical-align: top;\n",
       "    }\n",
       "\n",
       "    .dataframe thead th {\n",
       "        text-align: right;\n",
       "    }\n",
       "</style>\n",
       "<table border=\"1\" class=\"dataframe\">\n",
       "  <thead>\n",
       "    <tr style=\"text-align: right;\">\n",
       "      <th></th>\n",
       "      <th>RMSE</th>\n",
       "    </tr>\n",
       "  </thead>\n",
       "  <tbody>\n",
       "    <tr>\n",
       "      <th>Gradient Boost</th>\n",
       "      <td>0.126390</td>\n",
       "    </tr>\n",
       "    <tr>\n",
       "      <th>Ridge</th>\n",
       "      <td>0.169496</td>\n",
       "    </tr>\n",
       "    <tr>\n",
       "      <th>SVM</th>\n",
       "      <td>0.170926</td>\n",
       "    </tr>\n",
       "    <tr>\n",
       "      <th>Linear Regression</th>\n",
       "      <td>0.211009</td>\n",
       "    </tr>\n",
       "    <tr>\n",
       "      <th>Elastic Net</th>\n",
       "      <td>0.231757</td>\n",
       "    </tr>\n",
       "  </tbody>\n",
       "</table>\n",
       "</div>"
      ],
      "text/plain": [
       "                       RMSE\n",
       "Gradient Boost     0.126390\n",
       "Ridge              0.169496\n",
       "SVM                0.170926\n",
       "Linear Regression  0.211009\n",
       "Elastic Net        0.231757"
      ]
     },
     "execution_count": 46,
     "metadata": {},
     "output_type": "execute_result"
    }
   ],
   "source": [
    "pd.DataFrame(score_keeper.values(), index = score_keeper.keys(), columns = ['RMSE']).sort_values('RMSE')"
   ]
  },
  {
   "cell_type": "markdown",
   "metadata": {},
   "source": [
    "# Submission History\n",
    "\n",
    "- Submitted Gradient Boosted Model Predictions \n",
    "    - Date: 12/10/20\n",
    "    - RMSE: 0.14297\n",
    "    - Parameters: n_estimators: 500, max_depth: 4, min_samples_split: 5, learning_rate: 0.01, loss: 'ls'\n",
    "    - Leaderboard Position: 2676 / 5406 (49th percentile)"
   ]
  }
 ],
 "metadata": {
  "kernelspec": {
   "display_name": "Python 3",
   "language": "python",
   "name": "python3"
  },
  "language_info": {
   "codemirror_mode": {
    "name": "ipython",
    "version": 3
   },
   "file_extension": ".py",
   "mimetype": "text/x-python",
   "name": "python",
   "nbconvert_exporter": "python",
   "pygments_lexer": "ipython3",
   "version": "3.8.6"
  }
 },
 "nbformat": 4,
 "nbformat_minor": 4
}
